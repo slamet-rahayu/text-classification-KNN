{
 "cells": [
  {
   "cell_type": "markdown",
   "id": "b6a684d9",
   "metadata": {},
   "source": [
    "Supervised learning dengan metode regresi logistik untuk memprediksi apakah customer akan membeli produk atau tidak"
   ]
  },
  {
   "cell_type": "code",
   "execution_count": 1,
   "id": "9846268a",
   "metadata": {},
   "outputs": [],
   "source": [
    "# Langkah 1: Instalasi Library\n",
    "# Pastikan scikit-learn, pandas, dan numpy sudah terinstal\n",
    "# pip install scikit-learn pandas numpy\n",
    "\n",
    "import numpy as np\n",
    "import pandas as pd\n",
    "from sklearn.model_selection import train_test_split\n",
    "from sklearn.linear_model import LogisticRegression\n",
    "from sklearn.linear_model import LinearRegression\n",
    "from sklearn.preprocessing import StandardScaler, LabelEncoder\n",
    "from sklearn.metrics import accuracy_score, confusion_matrix, classification_report\n",
    "from sklearn.metrics import mean_squared_error, r2_score\n",
    "\n",
    "test_data = pd.read_csv('test_customer_data.csv')\n",
    "train_data = pd.read_csv('labeled_customer_data.csv')\n",
    "\n",
    "train_data['gender'] = LabelEncoder().fit_transform(train_data['gender'])\n",
    "train_data['profession'] = LabelEncoder().fit_transform(train_data['profession'])\n",
    "\n",
    "#new data\n",
    "test_data['gender'] = LabelEncoder().fit_transform(test_data['gender'])\n",
    "test_data['profession'] = LabelEncoder().fit_transform(test_data['profession'])\n",
    "\n",
    "# Langkah 3: Membagi Data menjadi Data Pelatihan dan Data Uji\n",
    "X = train_data[['gender', 'age', 'spending_score', 'profession', 'work_experience', 'family_size']]  # Fitur (Usia, Pendapatan)\n",
    "y = train_data['income']  # Label (Beli Produk)\n",
    "\n",
    "X_new = test_data[['gender', 'age', 'spending_score', 'profession', 'work_experience', 'family_size']]\n",
    "\n",
    "# Membagi data (80% pelatihan, 20% uji)\n",
    "X_train, X_test, y_train, y_test = train_test_split(X, y, test_size=0.2, random_state=42)\n",
    "\n",
    "# Scaling\n",
    "scaler = StandardScaler()\n",
    "\n",
    "X_train = scaler.fit_transform(X_train)\n",
    "X_test = scaler.transform(X_test)\n",
    "\n",
    "X_new_scaled = scaler.transform(X_new)\n",
    "\n",
    "# Bangun model regresi linear\n",
    "model = LinearRegression()\n",
    "model.fit(X_train, y_train)\n",
    "\n",
    "# Menggunakan Model untuk Prediksi\n",
    "y_pred = model.predict(X_test)"
   ]
  },
  {
   "cell_type": "markdown",
   "id": "8abdea1b",
   "metadata": {},
   "source": [
    "Evaluasi Model"
   ]
  },
  {
   "cell_type": "code",
   "execution_count": 2,
   "id": "8d33a197",
   "metadata": {},
   "outputs": [
    {
     "name": "stdout",
     "output_type": "stream",
     "text": [
      "Mean Squared Error (MSE): 2094402915.6994472\n",
      "Root Mean Squared Error (RMSE): 45764.647007263666\n",
      "R2 Score: 0.03689652698541357\n"
     ]
    }
   ],
   "source": [
    "# Evaluasi model\n",
    "mse = mean_squared_error(y_test, y_pred)\n",
    "rmse = np.sqrt(mse)\n",
    "r2 = r2_score(y_test, y_pred)\n",
    "\n",
    "print(\"Mean Squared Error (MSE):\", mse)\n",
    "print(\"Root Mean Squared Error (RMSE):\", rmse)\n",
    "print(\"R2 Score:\", r2)"
   ]
  },
  {
   "cell_type": "markdown",
   "id": "9d71dfcf",
   "metadata": {},
   "source": [
    "Prediksi data baru"
   ]
  },
  {
   "cell_type": "code",
   "execution_count": 3,
   "id": "46de2cca",
   "metadata": {},
   "outputs": [],
   "source": [
    "# Prediksi annual income untuk data baru\n",
    "predicted_income = model.predict(X_new_scaled)"
   ]
  },
  {
   "cell_type": "markdown",
   "id": "b63018e0",
   "metadata": {},
   "source": [
    "Hasil"
   ]
  },
  {
   "cell_type": "code",
   "execution_count": 4,
   "id": "0aeee644",
   "metadata": {},
   "outputs": [
    {
     "name": "stdout",
     "output_type": "stream",
     "text": [
      "\n",
      "Hasil Prediksi untuk Data Baru:\n",
      "     CustomerID  gender  age  income  spending_score  profession  \\\n",
      "0          1601       0   24   51661              79           3   \n",
      "1          1602       0   71  152910              90           0   \n",
      "2          1603       1    1  114556              64           3   \n",
      "3          1604       1    0  143455              62           5   \n",
      "4          1605       1   30  173096              92           5   \n",
      "..          ...     ...  ...     ...             ...         ...   \n",
      "395        1996       0   71  184387              40           0   \n",
      "396        1997       0   91   73158              32           1   \n",
      "397        1998       1   87   90961              14           5   \n",
      "398        1999       1   77  182109               4           4   \n",
      "399        2000       1   90  110610              52           3   \n",
      "\n",
      "     work_experience  family_size  Predicted Annual Income  \n",
      "0                  0            7            112206.073133  \n",
      "1                  1            6            113206.062958  \n",
      "2                  0            7            110255.666689  \n",
      "3                  1            6            108839.803587  \n",
      "4                  0            3            103418.134120  \n",
      "..               ...          ...                      ...  \n",
      "395                8            7            120368.784825  \n",
      "396                7            7            119702.011707  \n",
      "397                9            2            108831.642340  \n",
      "398                7            2            105936.602005  \n",
      "399                5            2            106619.069705  \n",
      "\n",
      "[400 rows x 9 columns]\n"
     ]
    }
   ],
   "source": [
    "# Tampilkan hasil prediksi\n",
    "test_data['Predicted Annual Income'] = predicted_income\n",
    "print(\"\\nHasil Prediksi untuk Data Baru:\")\n",
    "print(test_data)"
   ]
  }
 ],
 "metadata": {
  "kernelspec": {
   "display_name": "myenv",
   "language": "python",
   "name": "python3"
  },
  "language_info": {
   "codemirror_mode": {
    "name": "ipython",
    "version": 3
   },
   "file_extension": ".py",
   "mimetype": "text/x-python",
   "name": "python",
   "nbconvert_exporter": "python",
   "pygments_lexer": "ipython3",
   "version": "3.12.4"
  }
 },
 "nbformat": 4,
 "nbformat_minor": 5
}
