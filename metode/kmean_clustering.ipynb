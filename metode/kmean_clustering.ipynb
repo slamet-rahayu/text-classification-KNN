{
 "cells": [
  {
   "cell_type": "markdown",
   "metadata": {},
   "source": [
    "Unsupervised learning menggunakan metode K-Mean Clustering untuk segmentasi pelanggan"
   ]
  },
  {
   "cell_type": "code",
   "execution_count": null,
   "metadata": {},
   "outputs": [],
   "source": [
    "import pandas as pd\n",
    "import numpy as np\n",
    "from sklearn.cluster import KMeans\n",
    "from sklearn.preprocessing import StandardScaler, LabelEncoder\n",
    "import matplotlib.pyplot as plt\n",
    "import seaborn as sns"
   ]
  },
  {
   "cell_type": "markdown",
   "metadata": {},
   "source": [
    "membaca data"
   ]
  },
  {
   "cell_type": "code",
   "execution_count": null,
   "metadata": {},
   "outputs": [],
   "source": [
    "data = pd.read_csv('customers.csv', usecols=[\"gender\",\"age\",\"income\",\"spending_score\",\"profession\",\"work_experience\",\"family_size\"])"
   ]
  },
  {
   "cell_type": "markdown",
   "metadata": {},
   "source": [
    "Preprocessing data"
   ]
  },
  {
   "cell_type": "code",
   "execution_count": null,
   "metadata": {},
   "outputs": [],
   "source": [
    "\n",
    "# Encode kolom kategorikal\n",
    "le_gender = LabelEncoder()\n",
    "data['gender'] = le_gender.fit_transform(data['gender'])\n",
    "\n",
    "le_profession = LabelEncoder()\n",
    "data['profession'] = le_profession.fit_transform(data['profession'])\n",
    "\n",
    "# Ambil fitur yang relevan untuk clustering\n",
    "features = ['gender', 'age', 'income', 'spending_score', 'profession', 'work_experience', 'family_size']\n",
    "X = data[features]\n",
    "\n",
    "# Normalisasi data\n",
    "scaler = StandardScaler()\n",
    "X_scaled = scaler.fit_transform(X)"
   ]
  },
  {
   "cell_type": "markdown",
   "metadata": {},
   "source": [
    "Menentukan Jumlah Cluster"
   ]
  },
  {
   "cell_type": "code",
   "execution_count": null,
   "metadata": {},
   "outputs": [],
   "source": [
    "inertia = []\n",
    "k_range = range(1, 11)\n",
    "\n",
    "for k in k_range:\n",
    "  kmeans = KMeans(n_clusters=k, random_state=42)\n",
    "  kmeans.fit(X_scaled)\n",
    "  inertia.append(kmeans.inertia_)\n",
    "\n",
    "# Plot Elbow Method\n",
    "plt.figure(figsize=(8, 5))\n",
    "plt.plot(k_range, inertia, marker='o')\n",
    "plt.title('Elbow Method')\n",
    "plt.xlabel('Number of Clusters')\n",
    "plt.ylabel('Inertia')\n",
    "plt.show()"
   ]
  },
  {
   "cell_type": "markdown",
   "metadata": {},
   "source": [
    "Melakukan K-Means clustering"
   ]
  },
  {
   "cell_type": "code",
   "execution_count": null,
   "metadata": {},
   "outputs": [],
   "source": [
    "kmeans = KMeans(n_clusters=4, random_state=42)\n",
    "clusters = kmeans.fit_predict(X_scaled)\n",
    "\n",
    "data['cluster'] = clusters"
   ]
  },
  {
   "cell_type": "markdown",
   "metadata": {},
   "source": [
    "Visualisasi hasil"
   ]
  },
  {
   "cell_type": "code",
   "execution_count": null,
   "metadata": {},
   "outputs": [],
   "source": [
    "# Visualisasi cluster\n",
    "plt.figure(figsize=(8, 6))\n",
    "sns.scatterplot(\n",
    "  x=data['income'], \n",
    "  y=data['spending_score'], \n",
    "  hue=data['cluster'], \n",
    "  palette='viridis', \n",
    "  style=data['cluster'], \n",
    "  s=100\n",
    ")\n",
    "plt.title('Customer Segmentation')\n",
    "plt.xlabel('Income')\n",
    "plt.ylabel('Spending Score')\n",
    "plt.legend(title='Cluster')\n",
    "plt.show()\n"
   ]
  },
  {
   "cell_type": "markdown",
   "metadata": {},
   "source": [
    "Analisa Hasil"
   ]
  },
  {
   "cell_type": "code",
   "execution_count": null,
   "metadata": {},
   "outputs": [],
   "source": [
    "print(data.groupby('cluster').mean())"
   ]
  }
 ],
 "metadata": {
  "language_info": {
   "name": "python"
  }
 },
 "nbformat": 4,
 "nbformat_minor": 2
}
