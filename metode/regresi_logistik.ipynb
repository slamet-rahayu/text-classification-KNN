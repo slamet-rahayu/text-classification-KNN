{
 "cells": [
  {
   "cell_type": "markdown",
   "id": "b6a684d9",
   "metadata": {},
   "source": [
    "Supervised learning dengan metode regresi logistik untuk menentukan apakah customer akan membeli produk atau tidak\n",
    "\\\n",
    "Fitur:\n",
    "- Usia\n",
    "- Income\n",
    "\\\n",
    "Label:\n",
    "- Beli Produk (Purchase): Apakah pelanggan membeli produk atau tidak (1 = membeli, 0 = tidak membeli).\n"
   ]
  },
  {
   "cell_type": "code",
   "execution_count": null,
   "id": "9846268a",
   "metadata": {},
   "outputs": [],
   "source": [
    "import numpy as np\n",
    "import pandas as pd\n",
    "from sklearn.model_selection import train_test_split\n",
    "from sklearn.linear_model import LogisticRegression\n",
    "from sklearn.metrics import accuracy_score, confusion_matrix\n",
    "\n",
    "cd = pd.read_csv('customers.csv', nrows=50, usecols=[\"age\", \"income\"])\n",
    "\n",
    "data = {\n",
    "  'age': [20, 45, 35, 50, 29, 40, 38],\n",
    "  'income': [3000, 6500, 5000, 8000, 3500, 7000, 5500],\n",
    "  'Beli produk': [0, 1, 0, 1, 0, 1, 1]\n",
    "}\n",
    "\n",
    "df = pd.DataFrame(data)\n",
    "\n",
    "X = df[['age', 'income']]\n",
    "y = df['Beli produk']\n",
    "\n",
    "\n",
    "X_train, X_test, y_train, y_test = train_test_split(X, y, test_size=0.2, random_state=42)\n",
    "\n",
    "model = LogisticRegression()\n",
    "\n",
    "model.fit(X_train, y_train)\n",
    "\n",
    "y_pred = model.predict(X_test)"
   ]
  },
  {
   "cell_type": "markdown",
   "id": "8abdea1b",
   "metadata": {},
   "source": [
    "Akurasi Model"
   ]
  },
  {
   "cell_type": "code",
   "execution_count": null,
   "id": "8d33a197",
   "metadata": {},
   "outputs": [],
   "source": [
    "accuracy = accuracy_score(y_test, y_pred)\n",
    "print(f'Akurasi Model: {accuracy * 100:.2f}%')"
   ]
  },
  {
   "cell_type": "markdown",
   "id": "9d71dfcf",
   "metadata": {},
   "source": [
    "Prediksi data baru"
   ]
  },
  {
   "cell_type": "code",
   "execution_count": null,
   "id": "46de2cca",
   "metadata": {},
   "outputs": [],
   "source": [
    "new_prediction = model.predict(cd)\n",
    "\n",
    "cd['Prediksi Pemblian'] = new_prediction\n",
    "print(\"\\nData dengan Prediksi per Customer:\")\n",
    "print(cd)"
   ]
  }
 ],
 "metadata": {
  "kernelspec": {
   "display_name": "myenv",
   "language": "python",
   "name": "python3"
  },
  "language_info": {
   "codemirror_mode": {
    "name": "ipython",
    "version": 3
   },
   "file_extension": ".py",
   "mimetype": "text/x-python",
   "name": "python",
   "nbconvert_exporter": "python",
   "pygments_lexer": "ipython3",
   "version": "3.12.4"
  }
 },
 "nbformat": 4,
 "nbformat_minor": 5
}
