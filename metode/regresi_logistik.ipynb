{
 "cells": [
  {
   "cell_type": "markdown",
   "id": "b6a684d9",
   "metadata": {},
   "source": [
    "Supervised learning dengan metode regresi logistik untuk menentukan apakah customer akan membeli produk atau tidak\n",
    "\\\n",
    "Fitur:\n",
    "- Usia\n",
    "- Income\n",
    "\\\n",
    "Label:\n",
    "- Beli Produk (Purchase): Apakah pelanggan membeli produk atau tidak (1 = membeli, 0 = tidak membeli).\n"
   ]
  },
  {
   "cell_type": "code",
   "execution_count": 1,
   "id": "9846268a",
   "metadata": {},
   "outputs": [],
   "source": [
    "import numpy as np\n",
    "import pandas as pd\n",
    "from sklearn.model_selection import train_test_split\n",
    "from sklearn.linear_model import LogisticRegression\n",
    "from sklearn.metrics import accuracy_score, confusion_matrix\n",
    "\n",
    "cd = pd.read_csv('customers.csv', nrows=50, usecols=[\"age\", \"income\"])\n",
    "\n",
    "data = {\n",
    "  'age': [20, 45, 35, 50, 29, 40, 38],\n",
    "  'income': [3000, 6500, 5000, 8000, 3500, 7000, 5500],\n",
    "  'Beli produk': [0, 1, 0, 1, 0, 1, 1]\n",
    "}\n",
    "\n",
    "df = pd.DataFrame(data)\n",
    "\n",
    "X = df[['age', 'income']]\n",
    "y = df['Beli produk']\n",
    "\n",
    "\n",
    "X_train, X_test, y_train, y_test = train_test_split(X, y, test_size=0.2, random_state=42)\n",
    "\n",
    "model = LogisticRegression()\n",
    "\n",
    "model.fit(X_train, y_train)\n",
    "\n",
    "y_pred = model.predict(X_test)"
   ]
  },
  {
   "cell_type": "markdown",
   "id": "8abdea1b",
   "metadata": {},
   "source": [
    "Akurasi Model"
   ]
  },
  {
   "cell_type": "code",
   "execution_count": 2,
   "id": "8d33a197",
   "metadata": {},
   "outputs": [
    {
     "name": "stdout",
     "output_type": "stream",
     "text": [
      "Akurasi Model: 100.00%\n"
     ]
    }
   ],
   "source": [
    "accuracy = accuracy_score(y_test, y_pred)\n",
    "print(f'Akurasi Model: {accuracy * 100:.2f}%')"
   ]
  },
  {
   "cell_type": "markdown",
   "id": "9d71dfcf",
   "metadata": {},
   "source": [
    "Prediksi data baru"
   ]
  },
  {
   "cell_type": "code",
   "execution_count": 3,
   "id": "46de2cca",
   "metadata": {},
   "outputs": [
    {
     "name": "stdout",
     "output_type": "stream",
     "text": [
      "\n",
      "Data dengan Prediksi per Customer:\n",
      "    age  income  Prediksi Pemblian\n",
      "0    19   15000                  1\n",
      "1    21   35000                  1\n",
      "2    20   86000                  1\n",
      "3    23   59000                  1\n",
      "4    31   38000                  1\n",
      "5    22   58000                  1\n",
      "6    35   31000                  1\n",
      "7    23   84000                  1\n",
      "8    64   97000                  1\n",
      "9    30   98000                  1\n",
      "10   67    7000                  1\n",
      "11   35   93000                  1\n",
      "12   58   80000                  1\n",
      "13   24   91000                  1\n",
      "14   37   19000                  1\n",
      "15   22   51000                  1\n",
      "16   35   29000                  1\n",
      "17   20   89000                  1\n",
      "18   52   20000                  1\n",
      "19   35   62000                  1\n",
      "20   35   96000                  1\n",
      "21   25    4000                  0\n",
      "22   46   42000                  1\n",
      "23   31   71000                  1\n",
      "24   54   67000                  1\n",
      "25   29   52000                  1\n",
      "26   45   68000                  1\n",
      "27   35   78000                  1\n",
      "28   40   18000                  1\n",
      "29   23   20000                  1\n",
      "30   60   39000                  1\n",
      "31   21   34000                  1\n",
      "32   53   59000                  1\n",
      "33   18   62000                  1\n",
      "34   49   91000                  1\n",
      "35   21   95000                  1\n",
      "36   42   14000                  1\n",
      "37   30   62000                  1\n",
      "38   36    9000                  1\n",
      "39   20   69000                  1\n",
      "40   65   25000                  1\n",
      "41   24   85000                  1\n",
      "42   48   22000                  1\n",
      "43   31   33000                  1\n",
      "44   49   72000                  1\n",
      "45   24    3000                  0\n",
      "46   50   52000                  1\n",
      "47   27   71000                  1\n",
      "48   29   78000                  1\n",
      "49   31   25000                  1\n"
     ]
    }
   ],
   "source": [
    "new_prediction = model.predict(cd)\n",
    "\n",
    "cd['Prediksi Pemblian'] = new_prediction\n",
    "print(\"\\nData dengan Prediksi per Customer:\")\n",
    "print(cd)"
   ]
  }
 ],
 "metadata": {
  "kernelspec": {
   "display_name": "myenv",
   "language": "python",
   "name": "python3"
  },
  "language_info": {
   "codemirror_mode": {
    "name": "ipython",
    "version": 3
   },
   "file_extension": ".py",
   "mimetype": "text/x-python",
   "name": "python",
   "nbconvert_exporter": "python",
   "pygments_lexer": "ipython3",
   "version": "3.12.4"
  }
 },
 "nbformat": 4,
 "nbformat_minor": 5
}
